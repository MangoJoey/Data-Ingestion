{
 "cells": [
  {
   "cell_type": "code",
   "execution_count": 1,
   "id": "75a6bd7e-0241-4fba-9624-b3d41e7bb50a",
   "metadata": {},
   "outputs": [],
   "source": [
    "import os\n",
    "import time"
   ]
  },
  {
   "cell_type": "code",
   "execution_count": 2,
   "id": "43690aea-c556-4ab9-827d-fa9f0397ae93",
   "metadata": {},
   "outputs": [
    {
     "data": {
      "text/plain": [
       "4544707885"
      ]
     },
     "execution_count": 2,
     "metadata": {},
     "output_type": "execute_result"
    }
   ],
   "source": [
    "# files size\n",
    "os.path.getsize(\"custom_1988_2020.csv\") "
   ]
  },
  {
   "cell_type": "markdown",
   "id": "6845c2ed-1b44-4b4a-9afd-837a555b0581",
   "metadata": {},
   "source": [
    "### Read data with Dask"
   ]
  },
  {
   "cell_type": "code",
   "execution_count": 3,
   "id": "1f9a16b7-f8c6-4cf9-9d01-b99d9868d09f",
   "metadata": {},
   "outputs": [
    {
     "name": "stdout",
     "output_type": "stream",
     "text": [
      "Read csv(dask):  0.004055023193359375 seconds\n"
     ]
    }
   ],
   "source": [
    "from dask import dataframe as dd\n",
    "start = time.time()\n",
    "dask_df = dd.read_csv(\"custom_1988_2020.csv\")\n",
    "end = time.time()\n",
    "print(\"Read csv(dask): \",(end-start),\"seconds\")"
   ]
  },
  {
   "cell_type": "code",
   "execution_count": 4,
   "id": "68b14c6f-ccb2-4044-8fad-e39a9926c98e",
   "metadata": {},
   "outputs": [
    {
     "name": "stdout",
     "output_type": "stream",
     "text": [
      "Read csv(pandas):  28.9464008808136 seconds\n"
     ]
    }
   ],
   "source": [
    "import pandas as pd\n",
    "start = time.time()\n",
    "df = pd.read_csv(\"custom_1988_2020.csv\")\n",
    "end = time.time()\n",
    "print(\"Read csv(pandas): \",(end-start),\"seconds\")"
   ]
  },
  {
   "cell_type": "markdown",
   "id": "a160017b-9a80-4ce6-b5c5-b8bc3e3ff1cd",
   "metadata": {},
   "source": [
    "### Read data with Modin and Ray"
   ]
  },
  {
   "cell_type": "code",
   "execution_count": 5,
   "id": "f3089050-6418-4756-ae0c-8f6d25fd48a7",
   "metadata": {},
   "outputs": [
    {
     "name": "stderr",
     "output_type": "stream",
     "text": [
      "2023-11-11 18:57:23,127\tINFO worker.py:1673 -- Started a local Ray instance.\n",
      "\u001b[36m(raylet)\u001b[0m Spilled 3463 MiB, 5 objects, write throughput 1432 MiB/s. Set RAY_verbose_spill_logs=0 to disable this message.\n",
      "\u001b[36m(raylet)\u001b[0m Spilled 6065 MiB, 8 objects, write throughput 1814 MiB/s.\n"
     ]
    },
    {
     "name": "stdout",
     "output_type": "stream",
     "text": [
      "Read csv with modin and ray:  20.278686046600342 seconds\n"
     ]
    }
   ],
   "source": [
    "import modin.pandas as pd\n",
    "import ray\n",
    "ray.shutdown()\n",
    "ray.init()\n",
    "start = time.time()\n",
    "df = pd.read_csv(\"custom_1988_2020.csv\")\n",
    "end = time.time()\n",
    "print(\"Read csv with modin and ray: \",(end-start),\"seconds\")"
   ]
  },
  {
   "cell_type": "markdown",
   "id": "48f66cdf-6bbd-49f3-8998-c8cf9fbc0fc6",
   "metadata": {},
   "source": [
    "### Dask proves to be better than Pandas, Modin and Ray because the time it took for Dask was the fastest: 0.0037 seconds"
   ]
  },
  {
   "cell_type": "code",
   "execution_count": 6,
   "id": "332b36dd-9bdb-4b74-961b-d5732901b69c",
   "metadata": {},
   "outputs": [
    {
     "name": "stdout",
     "output_type": "stream",
     "text": [
      "<class 'dask.dataframe.core.DataFrame'>\n",
      "Columns: 8 entries, 198801 to 34353\n",
      "dtypes: int64(8)"
     ]
    }
   ],
   "source": [
    "dask_df.info()"
   ]
  },
  {
   "cell_type": "code",
   "execution_count": 7,
   "id": "65d9944f-43dd-4d98-9e26-37285ac7d14c",
   "metadata": {},
   "outputs": [],
   "source": [
    "dask_df = dask_df.drop(columns= '0')"
   ]
  },
  {
   "cell_type": "code",
   "execution_count": 8,
   "id": "f1b1d000-20cf-45fc-8d68-45370b214dde",
   "metadata": {},
   "outputs": [
    {
     "data": {
      "text/plain": [
       "113607321"
      ]
     },
     "execution_count": 8,
     "metadata": {},
     "output_type": "execute_result"
    }
   ],
   "source": [
    "# number of rows\n",
    "len(dask_df.index)"
   ]
  },
  {
   "cell_type": "code",
   "execution_count": 9,
   "id": "83d515e4-7d65-4a37-9186-aeb3da603a3c",
   "metadata": {},
   "outputs": [
    {
     "data": {
      "text/plain": [
       "7"
      ]
     },
     "execution_count": 9,
     "metadata": {},
     "output_type": "execute_result"
    }
   ],
   "source": [
    "# number of columns\n",
    "len(dask_df.columns)"
   ]
  },
  {
   "cell_type": "code",
   "execution_count": 10,
   "id": "489010b3-2ed8-4837-8c29-b3155b3b2038",
   "metadata": {},
   "outputs": [],
   "source": [
    "# removed special characters\n",
    "dask_df.columns=dask_df.columns.str.replace('[#,@,&]','')"
   ]
  },
  {
   "cell_type": "code",
   "execution_count": 11,
   "id": "b7e1174a-8763-4540-8130-410b33c5c9a8",
   "metadata": {},
   "outputs": [],
   "source": [
    "#To remove white space from columns\n",
    "dask_df.columns = dask_df.columns.str.replace(' ', '')"
   ]
  },
  {
   "cell_type": "code",
   "execution_count": 12,
   "id": "b1ba18e8-9593-4e0f-8d00-e68707c8a235",
   "metadata": {},
   "outputs": [
    {
     "data": {
      "text/plain": [
       "Index(['198801', '1', '103', '100', '000000190', '35843', '34353'], dtype='object')"
      ]
     },
     "execution_count": 12,
     "metadata": {},
     "output_type": "execute_result"
    }
   ],
   "source": [
    "dask_df.columns"
   ]
  },
  {
   "cell_type": "code",
   "execution_count": 13,
   "id": "21c8251b-016c-4783-b714-bd698bae729c",
   "metadata": {},
   "outputs": [],
   "source": [
    "dask_df = dask_df.rename(columns={'198801' : 'year_month', '1' : 'export_1_import_2', '103' : 'HS_code', '100': 'customs', '000000190': 'country', '35843': 'quantity', '34353': 'value(yen)'})"
   ]
  },
  {
   "cell_type": "code",
   "execution_count": 14,
   "id": "db673360-c10b-46bf-b6e4-d72b0a0a4aad",
   "metadata": {},
   "outputs": [
    {
     "data": {
      "text/plain": [
       "Index(['year_month', 'export_1_import_2', 'HS_code', 'customs', 'country',\n",
       "       'quantity', 'value(yen)'],\n",
       "      dtype='object')"
      ]
     },
     "execution_count": 14,
     "metadata": {},
     "output_type": "execute_result"
    }
   ],
   "source": [
    "dask_df.columns"
   ]
  },
  {
   "cell_type": "code",
   "execution_count": 15,
   "id": "382b9bc4-cd7f-4a5e-b773-83bebf075282",
   "metadata": {},
   "outputs": [
    {
     "name": "stdout",
     "output_type": "stream",
     "text": [
      "\n",
      "Usage:   \n",
      "  pip install [options] <requirement specifier> [package-index-options] ...\n",
      "  pip install [options] -r <requirements file> [package-index-options] ...\n",
      "  pip install [options] [-e] <vcs project url> ...\n",
      "  pip install [options] [-e] <local project path> ...\n",
      "  pip install [options] <archive url/path> ...\n",
      "\n",
      "no such option: -p\n"
     ]
    }
   ],
   "source": [
    "!pip install virtualenv -p python3"
   ]
  },
  {
   "cell_type": "code",
   "execution_count": 16,
   "id": "5a323206-6a96-4295-b12b-7b337fae7dd3",
   "metadata": {},
   "outputs": [
    {
     "name": "stdout",
     "output_type": "stream",
     "text": [
      "Requirement already satisfied: pyyaml in /Library/Frameworks/Python.framework/Versions/3.10/lib/python3.10/site-packages (6.0.1)\n"
     ]
    }
   ],
   "source": [
    "!pip install pyyaml"
   ]
  },
  {
   "cell_type": "code",
   "execution_count": 17,
   "id": "604cfffe-4066-4830-a467-2d7a07ba19b5",
   "metadata": {},
   "outputs": [
    {
     "name": "stdout",
     "output_type": "stream",
     "text": [
      "Overwriting utility.py\n"
     ]
    }
   ],
   "source": [
    "%%writefile utility.py\n",
    "\n",
    "import logging\n",
    "import os\n",
    "import subprocess\n",
    "import yaml\n",
    "import pandas as pd\n",
    "import datetime \n",
    "import gc\n",
    "import re\n",
    "def read_config_file(filepath):\n",
    "    with open(filepath, 'r') as stream:\n",
    "        try:\n",
    "            return yaml.load(stream, Loader=yaml.Loader)\n",
    "        except yaml.YAMLError as exc:\n",
    "            logging.error(exc)\n",
    "\n",
    "def col_header_val(df,table_config):\n",
    "    df.columns = df.columns.str.lower()\n",
    "    df.columns = df.columns.str.replace('[^\\w]','_',regex=True)\n",
    "    df.columns = list(map(lambda x: x.strip('_'), list(df.columns)))\n",
    "    df.columns = list(map(lambda x: replacer(x,'_'), list(df.columns)))\n",
    "    expected_col = list(map(lambda x: x.lower(),  table_config['columns']))\n",
    "    expected_col.sort()\n",
    "    df.columns =list(map(lambda x: x.lower(), list(df.columns)))\n",
    "    df = df.reindex(sorted(df.columns), axis=1)\n",
    "    if len(df.columns) == len(expected_col) and list(expected_col)  == list(df.columns):\n",
    "        print(\"column name and column length validation passed\")\n",
    "        return 1\n",
    "    else:\n",
    "        print(\"column name and column length validation failed\")\n",
    "        mismatched_columns_file = list(set(df.columns).difference(expected_col))\n",
    "        print(\"Following File columns are not in the YAML file\",mismatched_columns_file)\n",
    "        missing_YAML_file = list(set(expected_col).difference(df.columns))\n",
    "        print(\"Following YAML columns are not in the file uploaded\",missing_YAML_file)\n",
    "        logging.info(f'df columns: {df.columns}')\n",
    "        logging.info(f'expected columns: {expected_col}')\n",
    "        return 0"
   ]
  },
  {
   "cell_type": "code",
   "execution_count": 18,
   "id": "c7e2858b-736a-496b-8d70-b3b1c97b342e",
   "metadata": {},
   "outputs": [
    {
     "name": "stdout",
     "output_type": "stream",
     "text": [
      "Overwriting custom.yaml\n"
     ]
    }
   ],
   "source": [
    "%%writefile custom.yaml\n",
    "file_type: csv\n",
    "dataset_name: file\n",
    "file_name: custom_1988_2020\n",
    "inbound_delimiter: \",\"\n",
    "outbound_delimiter: \"|\"\n",
    "skip_leading_rows: 1\n",
    "columns: \n",
    "    - year_month\n",
    "      - export_1_import_2\n",
    "      - HS_code\n",
    "      - customs\n",
    "      - country\n",
    "      - quantity\n",
    "      - value(yen)"
   ]
  },
  {
   "cell_type": "code",
   "execution_count": 19,
   "id": "171ba745-75ab-49e2-8dc5-04d076dbf4f7",
   "metadata": {},
   "outputs": [
    {
     "name": "stdout",
     "output_type": "stream",
     "text": [
      "Requirement already satisfied: python-utils in /Library/Frameworks/Python.framework/Versions/3.10/lib/python3.10/site-packages (3.8.1)\n",
      "Requirement already satisfied: typing-extensions>3.10.0.2 in /Library/Frameworks/Python.framework/Versions/3.10/lib/python3.10/site-packages (from python-utils) (4.8.0)\n"
     ]
    }
   ],
   "source": [
    "!pip install python-utils"
   ]
  },
  {
   "cell_type": "code",
   "execution_count": 20,
   "id": "5dda9fc3-5dd2-491c-a4bb-08aec661809c",
   "metadata": {},
   "outputs": [
    {
     "data": {
      "text/plain": [
       "{'file_type': 'csv',\n",
       " 'dataset_name': 'file',\n",
       " 'file_name': 'custom_1988_2020',\n",
       " 'inbound_delimiter': ',',\n",
       " 'outbound_delimiter': '|',\n",
       " 'skip_leading_rows': 1,\n",
       " 'columns': ['year_month - export_1_import_2 - HS_code - customs - country - quantity - value(yen)']}"
      ]
     },
     "execution_count": 20,
     "metadata": {},
     "output_type": "execute_result"
    }
   ],
   "source": [
    "# Reading config file\n",
    "import utility as util\n",
    "config_data = util.read_config_file(\"custom.yaml\")\n",
    "config_data"
   ]
  },
  {
   "cell_type": "code",
   "execution_count": 21,
   "id": "dffcd3d2-1d00-4431-8f7f-e43c8281105b",
   "metadata": {},
   "outputs": [
    {
     "data": {
      "text/plain": [
       "'csv'"
      ]
     },
     "execution_count": 21,
     "metadata": {},
     "output_type": "execute_result"
    }
   ],
   "source": [
    "config_data['file_type']"
   ]
  },
  {
   "cell_type": "code",
   "execution_count": 22,
   "id": "ff61ddda-276a-4312-ad23-5b755601c25b",
   "metadata": {},
   "outputs": [
    {
     "data": {
      "text/plain": [
       "','"
      ]
     },
     "execution_count": 22,
     "metadata": {},
     "output_type": "execute_result"
    }
   ],
   "source": [
    "config_data['inbound_delimiter']"
   ]
  },
  {
   "cell_type": "code",
   "execution_count": 23,
   "id": "8435fdf4-0d07-4fa6-bbb9-56701596e2f5",
   "metadata": {},
   "outputs": [],
   "source": [
    "#Reading the file using config file\n",
    "file_type = config_data['file_type']\n",
    "source_file = config_data['file_name'] + f'.{file_type}'"
   ]
  },
  {
   "cell_type": "code",
   "execution_count": 24,
   "id": "2ac6fb15-640a-4e88-8ce2-17cdf36af8fd",
   "metadata": {},
   "outputs": [
    {
     "data": {
      "text/html": [
       "<div>\n",
       "<style scoped>\n",
       "    .dataframe tbody tr th:only-of-type {\n",
       "        vertical-align: middle;\n",
       "    }\n",
       "\n",
       "    .dataframe tbody tr th {\n",
       "        vertical-align: top;\n",
       "    }\n",
       "\n",
       "    .dataframe thead th {\n",
       "        text-align: right;\n",
       "    }\n",
       "</style>\n",
       "<table border=\"1\" class=\"dataframe\">\n",
       "  <thead>\n",
       "    <tr style=\"text-align: right;\">\n",
       "      <th></th>\n",
       "      <th>198801</th>\n",
       "      <th>1</th>\n",
       "      <th>103</th>\n",
       "      <th>100</th>\n",
       "      <th>000000190</th>\n",
       "      <th>0</th>\n",
       "      <th>35843</th>\n",
       "      <th>34353</th>\n",
       "    </tr>\n",
       "  </thead>\n",
       "  <tbody>\n",
       "    <tr>\n",
       "      <th>0</th>\n",
       "      <td>198801</td>\n",
       "      <td>1</td>\n",
       "      <td>103</td>\n",
       "      <td>100</td>\n",
       "      <td>120991000</td>\n",
       "      <td>0</td>\n",
       "      <td>1590</td>\n",
       "      <td>4154</td>\n",
       "    </tr>\n",
       "    <tr>\n",
       "      <th>1</th>\n",
       "      <td>198801</td>\n",
       "      <td>1</td>\n",
       "      <td>103</td>\n",
       "      <td>100</td>\n",
       "      <td>210390900</td>\n",
       "      <td>0</td>\n",
       "      <td>4500</td>\n",
       "      <td>2565</td>\n",
       "    </tr>\n",
       "    <tr>\n",
       "      <th>2</th>\n",
       "      <td>198801</td>\n",
       "      <td>1</td>\n",
       "      <td>103</td>\n",
       "      <td>100</td>\n",
       "      <td>220890200</td>\n",
       "      <td>0</td>\n",
       "      <td>3000</td>\n",
       "      <td>757</td>\n",
       "    </tr>\n",
       "    <tr>\n",
       "      <th>3</th>\n",
       "      <td>198801</td>\n",
       "      <td>1</td>\n",
       "      <td>103</td>\n",
       "      <td>100</td>\n",
       "      <td>240220000</td>\n",
       "      <td>0</td>\n",
       "      <td>26000</td>\n",
       "      <td>40668</td>\n",
       "    </tr>\n",
       "    <tr>\n",
       "      <th>4</th>\n",
       "      <td>198801</td>\n",
       "      <td>1</td>\n",
       "      <td>103</td>\n",
       "      <td>100</td>\n",
       "      <td>250410000</td>\n",
       "      <td>0</td>\n",
       "      <td>5</td>\n",
       "      <td>8070</td>\n",
       "    </tr>\n",
       "  </tbody>\n",
       "</table>\n",
       "</div>"
      ],
      "text/plain": [
       "   198801  1  103  100  000000190  0  35843  34353\n",
       "0  198801  1  103  100  120991000  0   1590   4154\n",
       "1  198801  1  103  100  210390900  0   4500   2565\n",
       "2  198801  1  103  100  220890200  0   3000    757\n",
       "3  198801  1  103  100  240220000  0  26000  40668\n",
       "4  198801  1  103  100  250410000  0      5   8070"
      ]
     },
     "execution_count": 24,
     "metadata": {},
     "output_type": "execute_result"
    }
   ],
   "source": [
    "import pandas as pd\n",
    "df = pd.read_csv(source_file)\n",
    "df.head()"
   ]
  },
  {
   "cell_type": "code",
   "execution_count": null,
   "id": "2ad57348-4963-4bd5-87d8-56bc61650fb9",
   "metadata": {},
   "outputs": [],
   "source": [
    "import datetime\n",
    "import csv\n",
    "import gzip\n",
    "\n",
    "from dask import dataframe as dd\n",
    "df = dd.read_csv('custom_1988_2020.csv',delimiter=',')\n",
    "\n",
    "# Write csv in gz format in pipe separated text file (|)\n",
    "df.to_csv('custom_1988_2020.csv.gz',\n",
    "          sep='|',\n",
    "          header=True,\n",
    "          index=False,\n",
    "          quoting=csv.QUOTE_ALL,\n",
    "          compression='gzip',\n",
    "          quotechar='\"',\n",
    "          doublequote=True,\n",
    "          lineterminator = '\\n')"
   ]
  },
  {
   "cell_type": "code",
   "execution_count": null,
   "id": "6f1ea10e-c7c6-4061-a664-17760f9ae2d4",
   "metadata": {},
   "outputs": [],
   "source": [
    "#number of files in gz format folder\n",
    "import os\n",
    "entries = os.listdir('custom_1988_2020.csv.gz/')\n",
    "for entry in entries:\n",
    "    print(entry)"
   ]
  },
  {
   "cell_type": "code",
   "execution_count": null,
   "id": "1f885fab-7150-4728-a300-0c1b086b863e",
   "metadata": {},
   "outputs": [],
   "source": [
    "#size of the gz format folder\n",
    "os.path.getsize('custom_1988_2020.csv.gz')"
   ]
  },
  {
   "cell_type": "code",
   "execution_count": null,
   "id": "0043e0b1-19a9-40b8-9977-547c372bd9c0",
   "metadata": {},
   "outputs": [],
   "source": []
  }
 ],
 "metadata": {
  "kernelspec": {
   "display_name": "Python 3 (ipykernel)",
   "language": "python",
   "name": "python3"
  },
  "language_info": {
   "codemirror_mode": {
    "name": "ipython",
    "version": 3
   },
   "file_extension": ".py",
   "mimetype": "text/x-python",
   "name": "python",
   "nbconvert_exporter": "python",
   "pygments_lexer": "ipython3",
   "version": "3.10.6"
  }
 },
 "nbformat": 4,
 "nbformat_minor": 5
}
